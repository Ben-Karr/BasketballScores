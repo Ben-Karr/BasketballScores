{
 "cells": [
  {
   "cell_type": "code",
   "execution_count": 1,
   "metadata": {
    "id": "WxTNUBTH5I6g"
   },
   "outputs": [],
   "source": [
    "import pandas as pd\n",
    "import re\n",
    "import html\n",
    "import datetime\n",
    "import matplotlib.pyplot as plt\n",
    "import seaborn as sns\n",
    "from scipy.stats import ttest_ind"
   ]
  },
  {
   "cell_type": "code",
   "execution_count": 2,
   "metadata": {
    "id": "I6P2e-cZ8EDf"
   },
   "outputs": [],
   "source": [
    "def load_dfs():\n",
    "  global df_games, df_teams\n",
    "  df_games = pd.read_csv('Games.csv', names = ['date','home_team', 'home_score', 'away_team', 'away_score'], parse_dates = ['date'])\n",
    "  ## Drop all rows that contain a null at any place\n",
    "  df_games.dropna(inplace = True)\n",
    "  df_games['home_team'] = df_games['home_team'].apply(lambda x: html.unescape(x))\n",
    "  df_games['away_team'] = df_games['away_team'].apply(lambda x: html.unescape(x))\n",
    "\n",
    "  df_teams = pd.read_csv('Teams.csv', names = ['conference', 'team'])"
   ]
  },
  {
   "cell_type": "code",
   "execution_count": 3,
   "metadata": {
    "id": "arsoYxC0rJT_"
   },
   "outputs": [],
   "source": [
    "load_dfs()"
   ]
  },
  {
   "cell_type": "code",
   "execution_count": 4,
   "metadata": {
    "colab": {
     "base_uri": "https://localhost:8080/",
     "height": 600
    },
    "id": "3DCWYDdb8V5f",
    "outputId": "bb2a8b0d-17b4-4e3f-b050-f150bc6855a7"
   },
   "outputs": [
    {
     "name": "stdout",
     "output_type": "stream",
     "text": [
      "<class 'pandas.core.frame.DataFrame'>\n",
      "Int64Index: 23492 entries, 0 to 23492\n",
      "Data columns (total 5 columns):\n",
      " #   Column      Non-Null Count  Dtype         \n",
      "---  ------      --------------  -----         \n",
      " 0   date        23492 non-null  datetime64[ns]\n",
      " 1   home_team   23492 non-null  object        \n",
      " 2   home_score  23492 non-null  int64         \n",
      " 3   away_team   23492 non-null  object        \n",
      " 4   away_score  23492 non-null  int64         \n",
      "dtypes: datetime64[ns](1), int64(2), object(2)\n",
      "memory usage: 1.1+ MB\n",
      "None\n",
      "         home_score    away_score\n",
      "count  23492.000000  23492.000000\n",
      "mean      75.617700     68.608462\n",
      "std       14.926316     13.826424\n",
      "min        0.000000      0.000000\n",
      "25%       67.000000     61.000000\n",
      "50%       76.000000     69.000000\n",
      "75%       84.000000     77.000000\n",
      "max      148.000000    127.000000\n"
     ]
    },
    {
     "data": {
      "text/html": [
       "<div>\n",
       "<style scoped>\n",
       "    .dataframe tbody tr th:only-of-type {\n",
       "        vertical-align: middle;\n",
       "    }\n",
       "\n",
       "    .dataframe tbody tr th {\n",
       "        vertical-align: top;\n",
       "    }\n",
       "\n",
       "    .dataframe thead th {\n",
       "        text-align: right;\n",
       "    }\n",
       "</style>\n",
       "<table border=\"1\" class=\"dataframe\">\n",
       "  <thead>\n",
       "    <tr style=\"text-align: right;\">\n",
       "      <th></th>\n",
       "      <th>date</th>\n",
       "      <th>home_team</th>\n",
       "      <th>home_score</th>\n",
       "      <th>away_team</th>\n",
       "      <th>away_score</th>\n",
       "    </tr>\n",
       "  </thead>\n",
       "  <tbody>\n",
       "    <tr>\n",
       "      <th>0</th>\n",
       "      <td>2015-11-13</td>\n",
       "      <td>Hawaii</td>\n",
       "      <td>87</td>\n",
       "      <td>Montana St.</td>\n",
       "      <td>76</td>\n",
       "    </tr>\n",
       "    <tr>\n",
       "      <th>1</th>\n",
       "      <td>2015-11-13</td>\n",
       "      <td>Eastern Mich.</td>\n",
       "      <td>70</td>\n",
       "      <td>Vermont</td>\n",
       "      <td>50</td>\n",
       "    </tr>\n",
       "    <tr>\n",
       "      <th>2</th>\n",
       "      <td>2015-11-13</td>\n",
       "      <td>Columbia</td>\n",
       "      <td>107</td>\n",
       "      <td>Kean</td>\n",
       "      <td>62</td>\n",
       "    </tr>\n",
       "    <tr>\n",
       "      <th>3</th>\n",
       "      <td>2015-11-13</td>\n",
       "      <td>La.-Monroe</td>\n",
       "      <td>88</td>\n",
       "      <td>McMurry</td>\n",
       "      <td>43</td>\n",
       "    </tr>\n",
       "    <tr>\n",
       "      <th>4</th>\n",
       "      <td>2015-11-13</td>\n",
       "      <td>Yale</td>\n",
       "      <td>70</td>\n",
       "      <td>Fairfield</td>\n",
       "      <td>57</td>\n",
       "    </tr>\n",
       "  </tbody>\n",
       "</table>\n",
       "</div>"
      ],
      "text/plain": [
       "        date      home_team  home_score    away_team  away_score\n",
       "0 2015-11-13         Hawaii          87  Montana St.          76\n",
       "1 2015-11-13  Eastern Mich.          70      Vermont          50\n",
       "2 2015-11-13       Columbia         107         Kean          62\n",
       "3 2015-11-13     La.-Monroe          88      McMurry          43\n",
       "4 2015-11-13           Yale          70    Fairfield          57"
      ]
     },
     "execution_count": 4,
     "metadata": {},
     "output_type": "execute_result"
    }
   ],
   "source": [
    "print(df_games.info())\n",
    "print(df_games.describe())\n",
    "df_games.head()"
   ]
  },
  {
   "cell_type": "code",
   "execution_count": 5,
   "metadata": {
    "colab": {
     "base_uri": "https://localhost:8080/",
     "height": 384
    },
    "id": "8T549rAz8jgW",
    "outputId": "edd7593d-af34-45f0-ab25-28736ba6cd94"
   },
   "outputs": [
    {
     "name": "stdout",
     "output_type": "stream",
     "text": [
      "<class 'pandas.core.frame.DataFrame'>\n",
      "RangeIndex: 353 entries, 0 to 352\n",
      "Data columns (total 2 columns):\n",
      " #   Column      Non-Null Count  Dtype \n",
      "---  ------      --------------  ----- \n",
      " 0   conference  353 non-null    object\n",
      " 1   team        353 non-null    object\n",
      "dtypes: object(2)\n",
      "memory usage: 5.6+ KB\n",
      "None\n"
     ]
    },
    {
     "data": {
      "text/html": [
       "<div>\n",
       "<style scoped>\n",
       "    .dataframe tbody tr th:only-of-type {\n",
       "        vertical-align: middle;\n",
       "    }\n",
       "\n",
       "    .dataframe tbody tr th {\n",
       "        vertical-align: top;\n",
       "    }\n",
       "\n",
       "    .dataframe thead th {\n",
       "        text-align: right;\n",
       "    }\n",
       "</style>\n",
       "<table border=\"1\" class=\"dataframe\">\n",
       "  <thead>\n",
       "    <tr style=\"text-align: right;\">\n",
       "      <th></th>\n",
       "      <th>conference</th>\n",
       "      <th>team</th>\n",
       "    </tr>\n",
       "  </thead>\n",
       "  <tbody>\n",
       "    <tr>\n",
       "      <th>0</th>\n",
       "      <td>America East</td>\n",
       "      <td>Vermont</td>\n",
       "    </tr>\n",
       "    <tr>\n",
       "      <th>1</th>\n",
       "      <td>America East</td>\n",
       "      <td>Stony Brook</td>\n",
       "    </tr>\n",
       "    <tr>\n",
       "      <th>2</th>\n",
       "      <td>America East</td>\n",
       "      <td>UMBC</td>\n",
       "    </tr>\n",
       "    <tr>\n",
       "      <th>3</th>\n",
       "      <td>America East</td>\n",
       "      <td>Hartford</td>\n",
       "    </tr>\n",
       "    <tr>\n",
       "      <th>4</th>\n",
       "      <td>America East</td>\n",
       "      <td>Albany</td>\n",
       "    </tr>\n",
       "  </tbody>\n",
       "</table>\n",
       "</div>"
      ],
      "text/plain": [
       "     conference         team\n",
       "0  America East      Vermont\n",
       "1  America East  Stony Brook\n",
       "2  America East         UMBC\n",
       "3  America East     Hartford\n",
       "4  America East       Albany"
      ]
     },
     "execution_count": 5,
     "metadata": {},
     "output_type": "execute_result"
    }
   ],
   "source": [
    "print(df_teams.info())\n",
    "df_teams.head()"
   ]
  },
  {
   "cell_type": "code",
   "execution_count": 6,
   "metadata": {
    "id": "bD-FvT8a-Lsu"
   },
   "outputs": [],
   "source": [
    "teams_names = sorted(df_teams.team.unique())"
   ]
  },
  {
   "cell_type": "markdown",
   "metadata": {
    "id": "Y6auTeFVKIn2"
   },
   "source": [
    "# Fix names"
   ]
  },
  {
   "cell_type": "code",
   "execution_count": 7,
   "metadata": {
    "colab": {
     "base_uri": "https://localhost:8080/"
    },
    "id": "R_XoEADwTznd",
    "outputId": "23ca78ff-e10d-4105-fbff-75e16c42baea"
   },
   "outputs": [
    {
     "name": "stdout",
     "output_type": "stream",
     "text": [
      "151\n"
     ]
    }
   ],
   "source": [
    "replacement_list = [\n",
    "  (r'St\\.', 'State'),\n",
    "  (r'A&M-Corpus Christ', 'Texas A&M-CC'),\n",
    "  (r'Albany (NY)', 'Albany'),\n",
    "  (r'Army West Point', 'Army'),\n",
    "  (r'American', 'American University'),\n",
    "  (r'Ark.-Pine Bluff', 'Arkansas-Pine Bluff'),\n",
    "  (r'Bethel \\(Tenn\\.\\)', 'Bethel (TN)'),\n",
    "  (r'Bridgewater $', 'Bridgewater (VA)'),\n",
    "  (r'Boston U\\.',  'Boston University'),\n",
    "  (r'Bryant', 'Bryant University'),\n",
    "  (r'Bakersfield', 'Cal State Bakersfield'),\n",
    "  (r'CSU Bakersfield',  'Cal State Bakersfield'),\n",
    "  (r'Cal Baptist',  'California Baptist'),\n",
    "  (r'Central Ark\\.',  'Central Arkansas'),\n",
    "  (r'Central Conn\\. State',  'Central Connecticut State'),\n",
    "  (r'Central Mich\\.',  'Central Michigan'),\n",
    "  (r'Coastal Caro\\.', 'Coastal Carolina'),\n",
    "  (r'CSUN', 'Cal State Northridge'),\n",
    "  (r'CSU Fullerton', 'Cal State Fullerton'),\n",
    "  (r'CSU Dom. Hills', 'Cal State Dom. Hills'),\n",
    "  (r'Centenary \\(La\\.\\)', 'Centenary (LA)'),\n",
    "  (r'Centenary \\(N\\.J\\.\\)', 'Centenary (NJ)'),\n",
    "  (r\"Columbia Int'l\", 'Columbia International'),\n",
    "  (r'Col\\. of Charleston', 'Charleston'),\n",
    "  (r'Concordia \\(Mich\\.\\)', 'Concordia (MI)' ),\n",
    "  (r'Concordia \\(Neb\\.\\)', 'Concordia (NE)'),\n",
    "  (r'Cumberland $', 'Cumberland (TN)'),\n",
    "  (r'Detroit$', 'Detroit Mercy'),\n",
    "  (r'E. Texas Bapt.', 'East Tex. Baptist'),\n",
    "  (r'Eastern Ill\\.', 'Eastern Illinois'),\n",
    "  (r'Eastern Ore\\.', 'Eastern Oregon'),\n",
    "  (r'Eastern Ky\\.', 'Eastern Kentucky'),\n",
    "  (r\"Fairleigh D'son\", 'Fairleigh Dickinson'),\n",
    "  (r'Fla. Atlantic', 'Florida Atlantic'),\n",
    "  (r'Geo\\. Washington', 'George Washington'),\n",
    "  (r'Hawaii-Hilo', 'Hawaii Hilo'),\n",
    "  (r'IIT', 'Illinois Tech'),\n",
    "  (r'IPFW', 'Purdue Fort Wayne'),\n",
    "  (r'John\\. & Wales \\(Colo\\.\\)', 'Johnson & Wales (CO)'),\n",
    "  (r'John\\. & Wales \\(N\\.C\\.\\)', 'Johnson & Wales (NC)'),\n",
    "  (r'John\\. & Wales \\(R\\.I\\.\\)', 'Johnson & Wales (RI)'),\n",
    "  (r'Ky\\. Wesleyan', 'Kentucky Wesleyan'),\n",
    "  (r'LMU', 'Loyola Marymount'),\n",
    "  (r'Lamar University', 'Lamar'),\n",
    "  (r'Loyola Chicago', 'Loyola (IL)'),\n",
    "  (r'Loyola \\(Md\\.\\)', 'Loyola (MD)'),\n",
    "  (r'Loyola \\(La\\.\\)', 'Loyola (LA)'),\n",
    "  (r'Louisiana Col\\.', 'Louisiana Coll.'),\n",
    "  (r'Lincoln \\(Pa\\.\\)', 'Lincoln (PA)'),\n",
    "  (r'McNeese$', 'McNeese State'),\n",
    "  (r'McNeese $', 'McNeese State',),\n",
    "  (r'Mississippi$', 'Ole Miss'),\n",
    "  (r'Miami \\(Fla\\.\\)', 'Miami (FL)'),\n",
    "  (r'Miami \\(Ohio\\)', 'Miami (OH)'),\n",
    "  (r'Mich\\. State ', 'Michigan State'),\n",
    "  (r'Minn\\.-Morris',  'Minnesota-Morris'),\n",
    "  (r'Mississippi Col\\.', 'Mississippi Coll.'),\n",
    "  (r'NC State', 'North Carolina State'),\n",
    "  (r'No\\. New Mexico', 'New Mexico'),\n",
    "  (r'Northern Ky\\.', 'Northern Kentucky'),\n",
    "  (r'Northwest \\(Wash\\.\\)', 'Northwest (WA)'),\n",
    "  (r'Notre Dame \\(OH\\)', 'Notre Dame (Ohio)'),\n",
    "  (r\"N'western State\", 'Northwestern State'),\n",
    "  (r'Ohio State $', 'Ohio State'),\n",
    "  (r'Omaha$', 'Nebraska-Omaha'),\n",
    "  (r'Ozarks $', 'Ozarks (AR)'),\n",
    "  (r'Queens \\(N\\.Y\\.\\)', 'Queens (NY)'),\n",
    "  (r'Rochester \\(Mich\\.\\)', 'Rochester (MI)'),\n",
    "  (r'South Fla\\.', 'South Florida'),\n",
    "  (r'Southern Miss\\.', 'Southern Miss'),\n",
    "  (r'SFA',  'Stephen F Austin'),\n",
    "  (r'SIUE', 'SIU-Edwardsville'),\n",
    "  (r'SIU Edwardsville', 'SIU-Edwardsville'),\n",
    "  (r\"Saint Joseph's\", \"Saint Joseph's (PA)\"),\n",
    "  (r'Seattle U', 'Seattle'),\n",
    "  (r'South Ala\\.', 'South Alabama'),\n",
    "  (r'Southern U\\.$', 'Southern University'),\n",
    "  (r'State Francis \\(Ill\\.\\)', 'State Francis (IL)'),\n",
    "  (r'State Francis \\(Pa\\.\\)', 'State Francis (PA)'),\n",
    "  (r'State Francis \\(NY\\)', 'St Francis (BKN)'),\n",
    "  (r\"State John's \\(NY\\)\", \"State John's\"),\n",
    "  (r\"State Mary's \\(Cal\\.\\)\", \"Saint Mary's\"),\n",
    "  (r\"State Mary's \\(CA\\)\", \"Saint Mary's\"),\n",
    "  (r\"State Mary's \\(Md\\.\\)\", \"Saint Mary's (MD)\"),\n",
    "  (r\"State Mary's \\(Texas\\)\", \"Saint Mary's (TX)\"),\n",
    "  (r'Trinity \\(Texas\\)', 'Trinity (TX)'),\n",
    "  (r'UC Santa Barb\\.', 'UC Santa Barbara'),\n",
    "  (r'UIC', 'Ill.-Chicago'),\n",
    "  (r'Urbana$', 'Urbana University'),\n",
    "  (r'Western Ill\\.', 'Western Illinois'),\n",
    "  (r'Westmin\\. \\(Pa\\.\\)',  'Westminster (PA)'),\n",
    "  (r'Wilmington \\(Del\\.\\)', 'Wilmington (DE)'),\n",
    "  (r'Charleston So\\.$',  'Charleston Southern'),\n",
    "  (r'Little Rock', 'Arkansas-Little Rock'),\n",
    "  (r'UConn', 'Connecticut'),\n",
    "  (r'East Tenn\\. State', 'East Tennessee State'),\n",
    "  (r'Eastern Mich\\.',  'Eastern Michigan'),\n",
    "  (r'FGCU',  'Florida Gulf Coast'),\n",
    "  (r'FIU', 'Florida International'),\n",
    "  (r'Ga\\. Southern', 'Georgia Southern'),\n",
    "  (r'Grambling', 'Grambling State'),\n",
    "  (r'Ill\\.-Chicago', 'Illinois-Chicago'),\n",
    "  (r'Louisiana$', 'Louisiana-Lafayette'),\n",
    "  (r'La\\.-Monroe', 'Louisiana-Monroe'),\n",
    "  (r'Long Island', 'LIU Brooklyn'),\n",
    "  (r'Loyola Maryland', 'Loyola (MD)'),\n",
    "  (r'Eastern Wash\\.', 'Eastern Washington'),\n",
    "  (r'Md\\.-East\\. Shore', 'Maryland-Eastern Shore'),\n",
    "  (r'Mass\\.-Lowell', 'Massachusetts-Lowell'),\n",
    "  (r'Middle Tenn\\.', 'Middle Tennessee'),\n",
    "  (r'Mississippi Val\\.', 'Mississippi Valley State'),\n",
    "  (r\"Mt\\. State Mary's\",  \"Mount St Mary's\"),\n",
    "  (r'Neb\\. Omaha', 'Nebraska-Omaha'),\n",
    "  (r'N\\.C\\. A\\&T', 'North Carolina A&T'),\n",
    "  (r'N\\.C\\. Central', 'North Carolina Central'),\n",
    "  (r'UNC Wilmington', 'North Carolina-Wilmington'),\n",
    "  (r'Northern Ariz\\.', 'Northern Arizona'),\n",
    "  (r'Northern Colo\\.', 'Northern Colorado'),\n",
    "  (r'Northern Ill\\.', 'Northern Illinois'),\n",
    "  (r'UNI', 'Northern Iowa'),\n",
    "  (r'Penn$', 'Pennsylvania'),\n",
    "  (r'Fort Wayne', 'Purdue Fort Wayne'),\n",
    "  (r'SIU Edwardsville', 'SIU-Edwardsville'),\n",
    "  (r'Southeast Mo\\. State', 'Southeast Missouri State'),\n",
    "  (r'Southeastern La\\.', 'Southeastern Louisiana'),\n",
    "  (r'Southern Ill\\.', 'Southern Illinois'),\n",
    "  (r'Southern Univ\\.', 'Southern University'),\n",
    "  (r'Southern California', 'USC'),\n",
    "  (r'S\\. Carolina State', 'South Carolina State'),\n",
    "  (r'State Bonaventure', 'St Bonaventure'),\n",
    "  (r\"State Francis \\(B'klyn\\)\", 'St Francis (BKN)'),\n",
    "  (r'State Francis \\(PA\\)', 'St Francis (PA)'),\n",
    "  (r\"State Peter's\", \"St Peter's\"),\n",
    "  (r'Stephen F\\. Austin', 'Stephen F Austin'),\n",
    "  (r'UT Martin', 'Tennessee-Martin'),\n",
    "  (r'Texas A\\&M-C\\.C\\.', 'Texas A&M-CC'),\n",
    "  (r'UTRGV', 'Texas Rio Grande Valley'),\n",
    "  (r'UALR', 'Arkansas-Little Rock'),\n",
    "  (r'UMES', 'Maryland-Eastern Shore'),\n",
    "  (r'UNCG', 'UNC Greensboro'),\n",
    "  (r'UNCW', 'North Carolina-Wilmington'),\n",
    "  (r'UT Arlington$', 'Texas-Arlington'),\n",
    "  (r'UT Arlington $', 'Texas-Arlington'),\n",
    "  (r'S\\.C\\. Upstate', 'USC Upstate'),\n",
    "  (r'VCU', 'Virginia Commonwealth'),\n",
    "  (r'VMI', 'Virginia Military'),\n",
    "  (r'Western Caro\\.', 'Western Carolina'),\n",
    "  (r'Western Ky\\.', 'Western Kentucky'),\n",
    "  (r'Western Mich\\.', 'Western Michigan'),\n",
    "  (r\"State John's\", \"St John's\"),\n",
    "  (r'Prairie View', 'Prairie View A&M'),\n",
    "]\n",
    "print(len(replacement_list))\n",
    "for x in replacement_list:\n",
    "  df_games['home_team'] = df_games['home_team'].str.replace(x[0], x[1])\n",
    "  df_games['away_team'] = df_games['away_team'].str.replace(x[0], x[1])"
   ]
  },
  {
   "cell_type": "code",
   "execution_count": 8,
   "metadata": {
    "colab": {
     "base_uri": "https://localhost:8080/"
    },
    "id": "oA9lZiXGIg1E",
    "outputId": "cce61c3a-54c6-4aba-9da9-6e24bb38879c"
   },
   "outputs": [
    {
     "name": "stdout",
     "output_type": "stream",
     "text": [
      "901\n"
     ]
    }
   ],
   "source": [
    "names_list = df_games['home_team'].tolist() + df_games['away_team'].tolist()\n",
    "unique_names = sorted(list(set(names_list)))\n",
    "print(len(unique_names))"
   ]
  },
  {
   "cell_type": "code",
   "execution_count": 9,
   "metadata": {
    "id": "23I4j7itqVQB"
   },
   "outputs": [],
   "source": [
    "# Manually check for duplicates / ambiguities\n",
    "#[x for x in unique_names if x[0].lower() == 'a']"
   ]
  },
  {
   "cell_type": "code",
   "execution_count": 10,
   "metadata": {
    "id": "fG6mmN4i2el_"
   },
   "outputs": [],
   "source": [
    "# Manually match team names from games dataframe to names from teams dataframe \n",
    "#[x for x in sorted(teams_names) if x not in unique_names]"
   ]
  },
  {
   "cell_type": "markdown",
   "metadata": {
    "id": "kdBxbJWaP0IE"
   },
   "source": [
    "# Remove not usable data / prob. games that have been canceled."
   ]
  },
  {
   "cell_type": "code",
   "execution_count": 11,
   "metadata": {
    "id": "c3c0KF-VPzxt"
   },
   "outputs": [],
   "source": [
    "df_games = df_games[df_games['home_score'] > 0]"
   ]
  },
  {
   "cell_type": "code",
   "execution_count": 12,
   "metadata": {
    "id": "hkH7q2jIQlVK"
   },
   "outputs": [],
   "source": [
    "assert(df_games[df_games['away_score'] < 0].shape[0] == 0)"
   ]
  },
  {
   "cell_type": "markdown",
   "metadata": {},
   "source": [
    "## Add single column to capture game results"
   ]
  },
  {
   "cell_type": "code",
   "execution_count": 13,
   "metadata": {},
   "outputs": [],
   "source": [
    "df_games['diff'] = df_games['home_score'] - df_games['away_score']"
   ]
  },
  {
   "cell_type": "code",
   "execution_count": 14,
   "metadata": {},
   "outputs": [
    {
     "data": {
      "text/plain": [
       "count    23290.000000\n",
       "mean         7.070030\n",
       "std         16.017813\n",
       "min        -59.000000\n",
       "25%         -4.000000\n",
       "50%          6.000000\n",
       "75%         16.000000\n",
       "max        101.000000\n",
       "Name: diff, dtype: float64"
      ]
     },
     "execution_count": 14,
     "metadata": {},
     "output_type": "execute_result"
    }
   ],
   "source": [
    "df_games['diff'].describe()"
   ]
  },
  {
   "cell_type": "markdown",
   "metadata": {},
   "source": [
    "### Remove outliers"
   ]
  },
  {
   "cell_type": "code",
   "execution_count": 30,
   "metadata": {},
   "outputs": [
    {
     "data": {
      "text/plain": [
       "<matplotlib.lines.Line2D at 0x7fe832430b80>"
      ]
     },
     "execution_count": 30,
     "metadata": {},
     "output_type": "execute_result"
    },
    {
     "data": {
      "image/png": "[encoded data removed]",
      "text/plain": [
       "<Figure size 432x288 with 1 Axes>"
      ]
     },
     "metadata": {
      "needs_background": "light"
     },
     "output_type": "display_data"
    }
   ],
   "source": [
    "plt.scatter(df_games['date'], df_games['diff'], alpha = 0.5)\n",
    "plt.axhline(-40, color = 'r')\n",
    "plt.axhline(80, color = 'r')"
   ]
  },
  {
   "cell_type": "code",
   "execution_count": 31,
   "metadata": {},
   "outputs": [],
   "source": [
    "df_games = df_games[(df_games['diff'] > -40) | (df_games['diff'] < 80)]"
   ]
  },
  {
   "cell_type": "markdown",
   "metadata": {
    "id": "3BbgG0Lw3CDI"
   },
   "source": [
    "# Infer season information from date (source: wiki)"
   ]
  },
  {
   "cell_type": "code",
   "execution_count": 32,
   "metadata": {
    "colab": {
     "base_uri": "https://localhost:8080/"
    },
    "id": "UAovnOiTSpoY",
    "outputId": "b235b071-a7f2-4444-afeb-c534b8909d1c"
   },
   "outputs": [
    {
     "data": {
      "text/plain": [
       "count                            23290\n",
       "mean     2017-07-07 05:45:52.322885376\n",
       "min                2015-11-13 00:00:00\n",
       "25%                2016-03-16 00:00:00\n",
       "50%                2017-03-10 00:00:00\n",
       "75%                2018-11-06 00:00:00\n",
       "max                2019-03-22 00:00:00\n",
       "Name: date, dtype: object"
      ]
     },
     "execution_count": 32,
     "metadata": {},
     "output_type": "execute_result"
    }
   ],
   "source": [
    "df_games['date'].describe(datetime_is_numeric=True)"
   ]
  },
  {
   "cell_type": "code",
   "execution_count": 33,
   "metadata": {
    "id": "JKwjqYVwS_8N"
   },
   "outputs": [],
   "source": [
    "seasons = {\n",
    "    ## date format: beginning of season, end of regular season, end of season\n",
    "    '15/16': [datetime.date(2015,11,13), datetime.date(2016,3,13), datetime.date(2016,4,4)],\n",
    "    '16/17': [datetime.date(2016,11,11), datetime.date(2017,3,12), datetime.date(2017,4,3)],\n",
    "    '17/18': [datetime.date(2017,11,10), datetime.date(2018,3,11), datetime.date(2018,4,2)],\n",
    "    '18/19': [datetime.date(2018,11,6), datetime.date(2019,3,17), datetime.date(2019,4,8)],\n",
    "     #18/19 is the latest season in the given data\n",
    "    '19/20': [datetime.date(2019,11,5), datetime.date(2020,3,15), datetime.date(2020,4,6)]\n",
    "}"
   ]
  },
  {
   "cell_type": "code",
   "execution_count": 34,
   "metadata": {
    "id": "rXzdOeYAU0vb"
   },
   "outputs": [],
   "source": [
    "def get_season(d):\n",
    "    for season in seasons.keys():\n",
    "        if ((d <= seasons[season][2]) and (d >= seasons[season][0])):\n",
    "            return season\n",
    "    else:\n",
    "        return str(d.year) + ' off'"
   ]
  },
  {
   "cell_type": "code",
   "execution_count": 35,
   "metadata": {
    "id": "ntYM0fmOZ-n8"
   },
   "outputs": [],
   "source": [
    "df_games['season'] = df_games['date'].apply(lambda x: get_season(x))"
   ]
  },
  {
   "cell_type": "code",
   "execution_count": 36,
   "metadata": {
    "colab": {
     "base_uri": "https://localhost:8080/",
     "height": 204
    },
    "id": "U9RUch36aV7a",
    "outputId": "44992f64-3f54-4c08-f731-d40cec0c6d0c"
   },
   "outputs": [
    {
     "data": {
      "text/html": [
       "<div>\n",
       "<style scoped>\n",
       "    .dataframe tbody tr th:only-of-type {\n",
       "        vertical-align: middle;\n",
       "    }\n",
       "\n",
       "    .dataframe tbody tr th {\n",
       "        vertical-align: top;\n",
       "    }\n",
       "\n",
       "    .dataframe thead th {\n",
       "        text-align: right;\n",
       "    }\n",
       "</style>\n",
       "<table border=\"1\" class=\"dataframe\">\n",
       "  <thead>\n",
       "    <tr style=\"text-align: right;\">\n",
       "      <th></th>\n",
       "      <th>date</th>\n",
       "      <th>home_team</th>\n",
       "      <th>home_score</th>\n",
       "      <th>away_team</th>\n",
       "      <th>away_score</th>\n",
       "      <th>diff</th>\n",
       "      <th>season</th>\n",
       "    </tr>\n",
       "  </thead>\n",
       "  <tbody>\n",
       "    <tr>\n",
       "      <th>23488</th>\n",
       "      <td>2019-03-21</td>\n",
       "      <td>Hampton</td>\n",
       "      <td>81</td>\n",
       "      <td>St Francis (BKN)</td>\n",
       "      <td>72</td>\n",
       "      <td>9</td>\n",
       "      <td>18/19</td>\n",
       "    </tr>\n",
       "    <tr>\n",
       "      <th>23489</th>\n",
       "      <td>2019-03-21</td>\n",
       "      <td>Louisiana-Monroe</td>\n",
       "      <td>87</td>\n",
       "      <td>Kent State</td>\n",
       "      <td>77</td>\n",
       "      <td>10</td>\n",
       "      <td>18/19</td>\n",
       "    </tr>\n",
       "    <tr>\n",
       "      <th>23490</th>\n",
       "      <td>2019-03-21</td>\n",
       "      <td>Cal State Fullerton</td>\n",
       "      <td>58</td>\n",
       "      <td>CSU Cal State Bakersfield</td>\n",
       "      <td>66</td>\n",
       "      <td>-8</td>\n",
       "      <td>18/19</td>\n",
       "    </tr>\n",
       "    <tr>\n",
       "      <th>23491</th>\n",
       "      <td>2019-03-22</td>\n",
       "      <td>Southern Utah</td>\n",
       "      <td>80</td>\n",
       "      <td>Drake</td>\n",
       "      <td>73</td>\n",
       "      <td>7</td>\n",
       "      <td>18/19</td>\n",
       "    </tr>\n",
       "    <tr>\n",
       "      <th>23492</th>\n",
       "      <td>2019-03-22</td>\n",
       "      <td>Creighton</td>\n",
       "      <td>79</td>\n",
       "      <td>Memphis</td>\n",
       "      <td>67</td>\n",
       "      <td>12</td>\n",
       "      <td>18/19</td>\n",
       "    </tr>\n",
       "  </tbody>\n",
       "</table>\n",
       "</div>"
      ],
      "text/plain": [
       "            date            home_team  home_score                  away_team  \\\n",
       "23488 2019-03-21              Hampton          81           St Francis (BKN)   \n",
       "23489 2019-03-21     Louisiana-Monroe          87                 Kent State   \n",
       "23490 2019-03-21  Cal State Fullerton          58  CSU Cal State Bakersfield   \n",
       "23491 2019-03-22        Southern Utah          80                      Drake   \n",
       "23492 2019-03-22            Creighton          79                    Memphis   \n",
       "\n",
       "       away_score  diff season  \n",
       "23488          72     9  18/19  \n",
       "23489          77    10  18/19  \n",
       "23490          66    -8  18/19  \n",
       "23491          73     7  18/19  \n",
       "23492          67    12  18/19  "
      ]
     },
     "execution_count": 36,
     "metadata": {},
     "output_type": "execute_result"
    }
   ],
   "source": [
    "df_games.tail()"
   ]
  },
  {
   "cell_type": "code",
   "execution_count": 37,
   "metadata": {},
   "outputs": [],
   "source": [
    "def get_tournament(d):\n",
    "    for season in seasons.keys():\n",
    "        if ((d<=seasons[season][2]) and (d >= seasons[season][1])):\n",
    "            return True\n",
    "    else:\n",
    "        return False"
   ]
  },
  {
   "cell_type": "code",
   "execution_count": 38,
   "metadata": {},
   "outputs": [],
   "source": [
    "df_games['is_tournament'] = df_games['date'].apply(lambda x: get_tournament(x))\n",
    "\n",
    "assert(df_games['season'].str.contains('off').sum() == 0)"
   ]
  },
  {
   "cell_type": "code",
   "execution_count": 39,
   "metadata": {},
   "outputs": [
    {
     "data": {
      "text/html": [
       "<div>\n",
       "<style scoped>\n",
       "    .dataframe tbody tr th:only-of-type {\n",
       "        vertical-align: middle;\n",
       "    }\n",
       "\n",
       "    .dataframe tbody tr th {\n",
       "        vertical-align: top;\n",
       "    }\n",
       "\n",
       "    .dataframe thead th {\n",
       "        text-align: right;\n",
       "    }\n",
       "</style>\n",
       "<table border=\"1\" class=\"dataframe\">\n",
       "  <thead>\n",
       "    <tr style=\"text-align: right;\">\n",
       "      <th></th>\n",
       "      <th>date</th>\n",
       "      <th>home_team</th>\n",
       "      <th>home_score</th>\n",
       "      <th>away_team</th>\n",
       "      <th>away_score</th>\n",
       "      <th>diff</th>\n",
       "      <th>season</th>\n",
       "      <th>is_tournament</th>\n",
       "    </tr>\n",
       "  </thead>\n",
       "  <tbody>\n",
       "    <tr>\n",
       "      <th>0</th>\n",
       "      <td>2015-11-13</td>\n",
       "      <td>Hawaii</td>\n",
       "      <td>87</td>\n",
       "      <td>Montana State</td>\n",
       "      <td>76</td>\n",
       "      <td>11</td>\n",
       "      <td>15/16</td>\n",
       "      <td>False</td>\n",
       "    </tr>\n",
       "    <tr>\n",
       "      <th>1</th>\n",
       "      <td>2015-11-13</td>\n",
       "      <td>Eastern Michigan</td>\n",
       "      <td>70</td>\n",
       "      <td>Vermont</td>\n",
       "      <td>50</td>\n",
       "      <td>20</td>\n",
       "      <td>15/16</td>\n",
       "      <td>False</td>\n",
       "    </tr>\n",
       "    <tr>\n",
       "      <th>2</th>\n",
       "      <td>2015-11-13</td>\n",
       "      <td>Columbia</td>\n",
       "      <td>107</td>\n",
       "      <td>Kean</td>\n",
       "      <td>62</td>\n",
       "      <td>45</td>\n",
       "      <td>15/16</td>\n",
       "      <td>False</td>\n",
       "    </tr>\n",
       "    <tr>\n",
       "      <th>3</th>\n",
       "      <td>2015-11-13</td>\n",
       "      <td>Louisiana-Monroe</td>\n",
       "      <td>88</td>\n",
       "      <td>McMurry</td>\n",
       "      <td>43</td>\n",
       "      <td>45</td>\n",
       "      <td>15/16</td>\n",
       "      <td>False</td>\n",
       "    </tr>\n",
       "    <tr>\n",
       "      <th>4</th>\n",
       "      <td>2015-11-13</td>\n",
       "      <td>Yale</td>\n",
       "      <td>70</td>\n",
       "      <td>Fairfield</td>\n",
       "      <td>57</td>\n",
       "      <td>13</td>\n",
       "      <td>15/16</td>\n",
       "      <td>False</td>\n",
       "    </tr>\n",
       "  </tbody>\n",
       "</table>\n",
       "</div>"
      ],
      "text/plain": [
       "        date         home_team  home_score      away_team  away_score  diff  \\\n",
       "0 2015-11-13            Hawaii          87  Montana State          76    11   \n",
       "1 2015-11-13  Eastern Michigan          70        Vermont          50    20   \n",
       "2 2015-11-13          Columbia         107           Kean          62    45   \n",
       "3 2015-11-13  Louisiana-Monroe          88        McMurry          43    45   \n",
       "4 2015-11-13              Yale          70      Fairfield          57    13   \n",
       "\n",
       "  season  is_tournament  \n",
       "0  15/16          False  \n",
       "1  15/16          False  \n",
       "2  15/16          False  \n",
       "3  15/16          False  \n",
       "4  15/16          False  "
      ]
     },
     "execution_count": 39,
     "metadata": {},
     "output_type": "execute_result"
    }
   ],
   "source": [
    "df_games.head()"
   ]
  },
  {
   "cell_type": "markdown",
   "metadata": {},
   "source": [
    "## Analyse, if the scores differ from regular season to the tournament."
   ]
  },
  {
   "cell_type": "code",
   "execution_count": 40,
   "metadata": {},
   "outputs": [
    {
     "name": "stdout",
     "output_type": "stream",
     "text": [
      "Number of games in regualr seasons: 22949\n",
      "Number of tournament games: 341\n",
      "Average scores in regular season games: [76.28009935 69.17499673]\n",
      "Average scores in tournament games: [75.83284457 71.12316716]\n"
     ]
    }
   ],
   "source": [
    "print(f\"Number of games in regualr seasons: {(~df_games['is_tournament']).sum()}\")\n",
    "print(f\"Number of tournament games: {df_games['is_tournament'].sum()}\")\n",
    "\n",
    "print(f\"Average scores in regular season games: {df_games[~df_games['is_tournament']][['home_score', 'away_score']].mean().values}\")\n",
    "print(f\"Average scores in tournament games: {df_games[df_games['is_tournament']][['home_score', 'away_score']].mean().values}\")"
   ]
  },
  {
   "cell_type": "markdown",
   "metadata": {},
   "source": [
    "### Boxplot:"
   ]
  },
  {
   "cell_type": "code",
   "execution_count": 41,
   "metadata": {},
   "outputs": [
    {
     "data": {
      "text/plain": [
       "<AxesSubplot:xlabel='is_home', ylabel='score'>"
      ]
     },
     "execution_count": 41,
     "metadata": {},
     "output_type": "execute_result"
    },
    {
     "data": {
      "image/png": "[encoded data removed]",
      "text/plain": [
       "<Figure size 432x288 with 1 Axes>"
      ]
     },
     "metadata": {
      "needs_background": "light"
     },
     "output_type": "display_data"
    }
   ],
   "source": [
    "df_tmp1 = df_games[['home_score', 'is_tournament']].copy()\n",
    "df_tmp2 = df_games[['away_score', 'is_tournament']].copy()\n",
    "\n",
    "df_tmp1.columns = ['score', 'is_tournament']\n",
    "df_tmp2.columns = ['score', 'is_tournament']\n",
    "\n",
    "df_tmp1['is_home'] = True\n",
    "df_tmp2['is_home'] = False\n",
    "\n",
    "df_box = pd.concat([df_tmp1, df_tmp2], axis = 0)\n",
    "\n",
    "sns.boxplot(x = 'is_home', y = 'score', hue = 'is_tournament', data = df_box)"
   ]
  },
  {
   "cell_type": "markdown",
   "metadata": {},
   "source": [
    "### t-Test:"
   ]
  },
  {
   "cell_type": "code",
   "execution_count": 42,
   "metadata": {},
   "outputs": [
    {
     "name": "stdout",
     "output_type": "stream",
     "text": [
      "Ttest_indResult(statistic=-0.6202628108551222, pvalue=0.5350908441472284)\n",
      "Ttest_indResult(statistic=2.9003776468940345, pvalue=0.003730619027513547)\n"
     ]
    }
   ],
   "source": [
    "v1 = df_games[df_games['is_tournament']]['home_score'].values\n",
    "v2 = df_games[~df_games['is_tournament']]['home_score'].values\n",
    "\n",
    "w1 = df_games[df_games['is_tournament']]['away_score'].values\n",
    "w2 = df_games[~df_games['is_tournament']]['away_score'].values\n",
    "\n",
    "print(ttest_ind(v1, v2))\n",
    "print(ttest_ind(w1, w2))"
   ]
  },
  {
   "cell_type": "code",
   "execution_count": 43,
   "metadata": {},
   "outputs": [
    {
     "data": {
      "text/plain": [
       "is_tournament\n",
       "False    7.105103\n",
       "True     4.709677\n",
       "Name: diff, dtype: float64"
      ]
     },
     "execution_count": 43,
     "metadata": {},
     "output_type": "execute_result"
    }
   ],
   "source": [
    "df_games.groupby(['is_tournament'])['diff'].mean()"
   ]
  },
  {
   "cell_type": "code",
   "execution_count": 44,
   "metadata": {},
   "outputs": [
    {
     "name": "stdout",
     "output_type": "stream",
     "text": [
      "Ttest_indResult(statistic=-2.741665493966062, pvalue=0.00611752108825525)\n"
     ]
    }
   ],
   "source": [
    "v1 = df_games[df_games['is_tournament']]['diff'].values\n",
    "v2 = df_games[~df_games['is_tournament']]['diff'].values\n",
    "\n",
    "print(ttest_ind(v1, v2))"
   ]
  },
  {
   "cell_type": "markdown",
   "metadata": {},
   "source": [
    "In tournament games, the home advantage seems to get smaller, so the `'is_tournament'` feature is assumed to have some predictive power. But it could also be, that, in tournaments, teams of similar skill level play against each other."
   ]
  },
  {
   "cell_type": "markdown",
   "metadata": {
    "id": "l3866FCgMVBy"
   },
   "source": [
    "# Infer more useful information from score"
   ]
  },
  {
   "cell_type": "code",
   "execution_count": 45,
   "metadata": {},
   "outputs": [],
   "source": [
    "df_s1516 = df_games[df_games['season'].str.contains('15/16')].copy()\n",
    "df_s1617 = df_games[df_games['season'].str.contains('16/17')].copy()\n",
    "df_s1718 = df_games[df_games['season'].str.contains('17/18')].copy()\n",
    "df_s1819 = df_games[df_games['season'].str.contains('18/19')].copy()\n",
    "\n",
    "df_s = [df_s1516, df_s1617, df_s1718, df_s1819]"
   ]
  },
  {
   "cell_type": "code",
   "execution_count": 46,
   "metadata": {},
   "outputs": [],
   "source": [
    "def calc_avg_court(df):\n",
    "    for team in unique_names:\n",
    "        df.loc[df['home_team'] == team, 'home_score_at_home']   = df.loc[df['home_team'] == team, 'home_score'].expanding().mean().shift()\n",
    "        df.loc[df['home_team'] == team, 'home_defense_at_home'] = df.loc[df['home_team'] == team, 'away_score'].expanding().mean().shift()\n",
    "        df.loc[df['away_team'] == team, 'away_score_at_away']   = df.loc[df['away_team'] == team, 'away_score'].expanding().mean().shift()\n",
    "        df.loc[df['away_team'] == team, 'away_defense_at_away'] = df.loc[df['away_team'] == team, 'home_score'].expanding().mean().shift()"
   ]
  },
  {
   "cell_type": "code",
   "execution_count": 47,
   "metadata": {},
   "outputs": [],
   "source": [
    "def calc_avg_total(df):\n",
    "    for team in unique_names:\n",
    "        ## Combine scores for home and away games, for specific team, in one datafrae\n",
    "        df_tmp1 = df[df['home_team'] == team][['date', 'home_score', 'away_score']]\n",
    "        df_tmp1.columns = ['date', 'points_made', 'points_taken']\n",
    "        df_tmp1['is_home'] = True\n",
    "\n",
    "        df_tmp2 = df[df['away_team'] == team][['date', 'home_score', 'away_score']]\n",
    "        df_tmp2.columns = ['date', 'points_taken', 'points_made']\n",
    "        df_tmp2['is_home'] = False\n",
    "\n",
    "        df_total = pd.concat([df_tmp1, df_tmp2], axis = 0).sort_values('date').sort_values('date')        \n",
    "        \n",
    "        df_total['total_score_cumavg_season'] = df_total['points_made'].expanding().mean().shift()\n",
    "        df_total['total_defense_cumavg_season'] = df_total['points_taken'].expanding().mean().shift()\n",
    "        \n",
    "        df.loc[df['home_team'] == team, 'home_score_total'] = df_total[df_total['is_home']]['total_score_cumavg_season']\n",
    "        df.loc[df['home_team'] == team, 'home_defense_total'] = df_total[df_total['is_home']]['total_defense_cumavg_season']\n",
    "\n",
    "        df.loc[df['away_team'] == team, 'away_score_total'] = df_total[~df_total['is_home']]['total_score_cumavg_season']\n",
    "        df.loc[df['away_team'] == team, 'away_defense_total'] = df_total[~df_total['is_home']]['total_defense_cumavg_season']"
   ]
  },
  {
   "cell_type": "code",
   "execution_count": 48,
   "metadata": {},
   "outputs": [],
   "source": [
    "for df in df_s:\n",
    "    calc_avg_court(df)\n",
    "    calc_avg_total(df)"
   ]
  },
  {
   "cell_type": "code",
   "execution_count": 49,
   "metadata": {},
   "outputs": [],
   "source": [
    "df = pd.concat(df_s, axis = 0)\n",
    "df.fillna(0, inplace = True)"
   ]
  },
  {
   "cell_type": "code",
   "execution_count": 50,
   "metadata": {},
   "outputs": [
    {
     "data": {
      "text/html": [
       "<div>\n",
       "<style scoped>\n",
       "    .dataframe tbody tr th:only-of-type {\n",
       "        vertical-align: middle;\n",
       "    }\n",
       "\n",
       "    .dataframe tbody tr th {\n",
       "        vertical-align: top;\n",
       "    }\n",
       "\n",
       "    .dataframe thead th {\n",
       "        text-align: right;\n",
       "    }\n",
       "</style>\n",
       "<table border=\"1\" class=\"dataframe\">\n",
       "  <thead>\n",
       "    <tr style=\"text-align: right;\">\n",
       "      <th></th>\n",
       "      <th>date</th>\n",
       "      <th>home_team</th>\n",
       "      <th>home_score</th>\n",
       "      <th>away_team</th>\n",
       "      <th>away_score</th>\n",
       "      <th>diff</th>\n",
       "      <th>season</th>\n",
       "      <th>is_tournament</th>\n",
       "      <th>home_score_at_home</th>\n",
       "      <th>home_defense_at_home</th>\n",
       "      <th>away_score_at_away</th>\n",
       "      <th>away_defense_at_away</th>\n",
       "      <th>home_score_total</th>\n",
       "      <th>home_defense_total</th>\n",
       "      <th>away_score_total</th>\n",
       "      <th>away_defense_total</th>\n",
       "    </tr>\n",
       "  </thead>\n",
       "  <tbody>\n",
       "    <tr>\n",
       "      <th>0</th>\n",
       "      <td>2015-11-13</td>\n",
       "      <td>Hawaii</td>\n",
       "      <td>87</td>\n",
       "      <td>Montana State</td>\n",
       "      <td>76</td>\n",
       "      <td>11</td>\n",
       "      <td>15/16</td>\n",
       "      <td>False</td>\n",
       "      <td>0.0</td>\n",
       "      <td>0.0</td>\n",
       "      <td>0.0</td>\n",
       "      <td>0.0</td>\n",
       "      <td>0.0</td>\n",
       "      <td>0.0</td>\n",
       "      <td>0.0</td>\n",
       "      <td>0.0</td>\n",
       "    </tr>\n",
       "    <tr>\n",
       "      <th>1</th>\n",
       "      <td>2015-11-13</td>\n",
       "      <td>Eastern Michigan</td>\n",
       "      <td>70</td>\n",
       "      <td>Vermont</td>\n",
       "      <td>50</td>\n",
       "      <td>20</td>\n",
       "      <td>15/16</td>\n",
       "      <td>False</td>\n",
       "      <td>0.0</td>\n",
       "      <td>0.0</td>\n",
       "      <td>0.0</td>\n",
       "      <td>0.0</td>\n",
       "      <td>0.0</td>\n",
       "      <td>0.0</td>\n",
       "      <td>0.0</td>\n",
       "      <td>0.0</td>\n",
       "    </tr>\n",
       "    <tr>\n",
       "      <th>2</th>\n",
       "      <td>2015-11-13</td>\n",
       "      <td>Columbia</td>\n",
       "      <td>107</td>\n",
       "      <td>Kean</td>\n",
       "      <td>62</td>\n",
       "      <td>45</td>\n",
       "      <td>15/16</td>\n",
       "      <td>False</td>\n",
       "      <td>0.0</td>\n",
       "      <td>0.0</td>\n",
       "      <td>0.0</td>\n",
       "      <td>0.0</td>\n",
       "      <td>0.0</td>\n",
       "      <td>0.0</td>\n",
       "      <td>0.0</td>\n",
       "      <td>0.0</td>\n",
       "    </tr>\n",
       "    <tr>\n",
       "      <th>3</th>\n",
       "      <td>2015-11-13</td>\n",
       "      <td>Louisiana-Monroe</td>\n",
       "      <td>88</td>\n",
       "      <td>McMurry</td>\n",
       "      <td>43</td>\n",
       "      <td>45</td>\n",
       "      <td>15/16</td>\n",
       "      <td>False</td>\n",
       "      <td>0.0</td>\n",
       "      <td>0.0</td>\n",
       "      <td>0.0</td>\n",
       "      <td>0.0</td>\n",
       "      <td>0.0</td>\n",
       "      <td>0.0</td>\n",
       "      <td>0.0</td>\n",
       "      <td>0.0</td>\n",
       "    </tr>\n",
       "    <tr>\n",
       "      <th>4</th>\n",
       "      <td>2015-11-13</td>\n",
       "      <td>Yale</td>\n",
       "      <td>70</td>\n",
       "      <td>Fairfield</td>\n",
       "      <td>57</td>\n",
       "      <td>13</td>\n",
       "      <td>15/16</td>\n",
       "      <td>False</td>\n",
       "      <td>0.0</td>\n",
       "      <td>0.0</td>\n",
       "      <td>0.0</td>\n",
       "      <td>0.0</td>\n",
       "      <td>0.0</td>\n",
       "      <td>0.0</td>\n",
       "      <td>0.0</td>\n",
       "      <td>0.0</td>\n",
       "    </tr>\n",
       "  </tbody>\n",
       "</table>\n",
       "</div>"
      ],
      "text/plain": [
       "        date         home_team  home_score      away_team  away_score  diff  \\\n",
       "0 2015-11-13            Hawaii          87  Montana State          76    11   \n",
       "1 2015-11-13  Eastern Michigan          70        Vermont          50    20   \n",
       "2 2015-11-13          Columbia         107           Kean          62    45   \n",
       "3 2015-11-13  Louisiana-Monroe          88        McMurry          43    45   \n",
       "4 2015-11-13              Yale          70      Fairfield          57    13   \n",
       "\n",
       "  season  is_tournament  home_score_at_home  home_defense_at_home  \\\n",
       "0  15/16          False                 0.0                   0.0   \n",
       "1  15/16          False                 0.0                   0.0   \n",
       "2  15/16          False                 0.0                   0.0   \n",
       "3  15/16          False                 0.0                   0.0   \n",
       "4  15/16          False                 0.0                   0.0   \n",
       "\n",
       "   away_score_at_away  away_defense_at_away  home_score_total  \\\n",
       "0                 0.0                   0.0               0.0   \n",
       "1                 0.0                   0.0               0.0   \n",
       "2                 0.0                   0.0               0.0   \n",
       "3                 0.0                   0.0               0.0   \n",
       "4                 0.0                   0.0               0.0   \n",
       "\n",
       "   home_defense_total  away_score_total  away_defense_total  \n",
       "0                 0.0               0.0                 0.0  \n",
       "1                 0.0               0.0                 0.0  \n",
       "2                 0.0               0.0                 0.0  \n",
       "3                 0.0               0.0                 0.0  \n",
       "4                 0.0               0.0                 0.0  "
      ]
     },
     "execution_count": 50,
     "metadata": {},
     "output_type": "execute_result"
    }
   ],
   "source": [
    "df.head()"
   ]
  },
  {
   "cell_type": "markdown",
   "metadata": {
    "id": "P9oWfqYuTyyJ"
   },
   "source": [
    "# Join conference information into the games dataframe"
   ]
  },
  {
   "cell_type": "code",
   "execution_count": 51,
   "metadata": {
    "colab": {
     "base_uri": "https://localhost:8080/",
     "height": 204
    },
    "id": "Q_LzuX1PTyLt",
    "outputId": "717a931b-b98c-4b38-e5de-3321963c2f65"
   },
   "outputs": [
    {
     "data": {
      "text/html": [
       "<div>\n",
       "<style scoped>\n",
       "    .dataframe tbody tr th:only-of-type {\n",
       "        vertical-align: middle;\n",
       "    }\n",
       "\n",
       "    .dataframe tbody tr th {\n",
       "        vertical-align: top;\n",
       "    }\n",
       "\n",
       "    .dataframe thead th {\n",
       "        text-align: right;\n",
       "    }\n",
       "</style>\n",
       "<table border=\"1\" class=\"dataframe\">\n",
       "  <thead>\n",
       "    <tr style=\"text-align: right;\">\n",
       "      <th></th>\n",
       "      <th>conference</th>\n",
       "      <th>team</th>\n",
       "    </tr>\n",
       "  </thead>\n",
       "  <tbody>\n",
       "    <tr>\n",
       "      <th>0</th>\n",
       "      <td>America East</td>\n",
       "      <td>Vermont</td>\n",
       "    </tr>\n",
       "    <tr>\n",
       "      <th>1</th>\n",
       "      <td>America East</td>\n",
       "      <td>Stony Brook</td>\n",
       "    </tr>\n",
       "    <tr>\n",
       "      <th>2</th>\n",
       "      <td>America East</td>\n",
       "      <td>UMBC</td>\n",
       "    </tr>\n",
       "    <tr>\n",
       "      <th>3</th>\n",
       "      <td>America East</td>\n",
       "      <td>Hartford</td>\n",
       "    </tr>\n",
       "    <tr>\n",
       "      <th>4</th>\n",
       "      <td>America East</td>\n",
       "      <td>Albany</td>\n",
       "    </tr>\n",
       "  </tbody>\n",
       "</table>\n",
       "</div>"
      ],
      "text/plain": [
       "     conference         team\n",
       "0  America East      Vermont\n",
       "1  America East  Stony Brook\n",
       "2  America East         UMBC\n",
       "3  America East     Hartford\n",
       "4  America East       Albany"
      ]
     },
     "execution_count": 51,
     "metadata": {},
     "output_type": "execute_result"
    }
   ],
   "source": [
    "df_teams.head()"
   ]
  },
  {
   "cell_type": "code",
   "execution_count": 52,
   "metadata": {
    "id": "NlVhV-esUcYY"
   },
   "outputs": [],
   "source": [
    "df = df.merge(df_teams, how='left', left_on = 'home_team', right_on='team').drop('team', axis = 1)\n",
    "df = df.merge(df_teams, how='left', left_on='away_team', right_on='team', suffixes=('_home','_away')).drop('team', axis = 1)"
   ]
  },
  {
   "cell_type": "code",
   "execution_count": 53,
   "metadata": {},
   "outputs": [
    {
     "data": {
      "text/html": [
       "<div>\n",
       "<style scoped>\n",
       "    .dataframe tbody tr th:only-of-type {\n",
       "        vertical-align: middle;\n",
       "    }\n",
       "\n",
       "    .dataframe tbody tr th {\n",
       "        vertical-align: top;\n",
       "    }\n",
       "\n",
       "    .dataframe thead th {\n",
       "        text-align: right;\n",
       "    }\n",
       "</style>\n",
       "<table border=\"1\" class=\"dataframe\">\n",
       "  <thead>\n",
       "    <tr style=\"text-align: right;\">\n",
       "      <th></th>\n",
       "      <th>date</th>\n",
       "      <th>home_team</th>\n",
       "      <th>home_score</th>\n",
       "      <th>away_team</th>\n",
       "      <th>away_score</th>\n",
       "      <th>diff</th>\n",
       "      <th>season</th>\n",
       "      <th>is_tournament</th>\n",
       "      <th>home_score_at_home</th>\n",
       "      <th>home_defense_at_home</th>\n",
       "      <th>away_score_at_away</th>\n",
       "      <th>away_defense_at_away</th>\n",
       "      <th>home_score_total</th>\n",
       "      <th>home_defense_total</th>\n",
       "      <th>away_score_total</th>\n",
       "      <th>away_defense_total</th>\n",
       "      <th>conference_home</th>\n",
       "      <th>conference_away</th>\n",
       "    </tr>\n",
       "  </thead>\n",
       "  <tbody>\n",
       "    <tr>\n",
       "      <th>0</th>\n",
       "      <td>2015-11-13</td>\n",
       "      <td>Hawaii</td>\n",
       "      <td>87</td>\n",
       "      <td>Montana State</td>\n",
       "      <td>76</td>\n",
       "      <td>11</td>\n",
       "      <td>15/16</td>\n",
       "      <td>False</td>\n",
       "      <td>0.0</td>\n",
       "      <td>0.0</td>\n",
       "      <td>0.0</td>\n",
       "      <td>0.0</td>\n",
       "      <td>0.0</td>\n",
       "      <td>0.0</td>\n",
       "      <td>0.0</td>\n",
       "      <td>0.0</td>\n",
       "      <td>Big West</td>\n",
       "      <td>Big Sky</td>\n",
       "    </tr>\n",
       "    <tr>\n",
       "      <th>1</th>\n",
       "      <td>2015-11-13</td>\n",
       "      <td>Eastern Michigan</td>\n",
       "      <td>70</td>\n",
       "      <td>Vermont</td>\n",
       "      <td>50</td>\n",
       "      <td>20</td>\n",
       "      <td>15/16</td>\n",
       "      <td>False</td>\n",
       "      <td>0.0</td>\n",
       "      <td>0.0</td>\n",
       "      <td>0.0</td>\n",
       "      <td>0.0</td>\n",
       "      <td>0.0</td>\n",
       "      <td>0.0</td>\n",
       "      <td>0.0</td>\n",
       "      <td>0.0</td>\n",
       "      <td>Mid-American</td>\n",
       "      <td>America East</td>\n",
       "    </tr>\n",
       "    <tr>\n",
       "      <th>2</th>\n",
       "      <td>2015-11-13</td>\n",
       "      <td>Columbia</td>\n",
       "      <td>107</td>\n",
       "      <td>Kean</td>\n",
       "      <td>62</td>\n",
       "      <td>45</td>\n",
       "      <td>15/16</td>\n",
       "      <td>False</td>\n",
       "      <td>0.0</td>\n",
       "      <td>0.0</td>\n",
       "      <td>0.0</td>\n",
       "      <td>0.0</td>\n",
       "      <td>0.0</td>\n",
       "      <td>0.0</td>\n",
       "      <td>0.0</td>\n",
       "      <td>0.0</td>\n",
       "      <td>Ivy League</td>\n",
       "      <td>NaN</td>\n",
       "    </tr>\n",
       "    <tr>\n",
       "      <th>3</th>\n",
       "      <td>2015-11-13</td>\n",
       "      <td>Louisiana-Monroe</td>\n",
       "      <td>88</td>\n",
       "      <td>McMurry</td>\n",
       "      <td>43</td>\n",
       "      <td>45</td>\n",
       "      <td>15/16</td>\n",
       "      <td>False</td>\n",
       "      <td>0.0</td>\n",
       "      <td>0.0</td>\n",
       "      <td>0.0</td>\n",
       "      <td>0.0</td>\n",
       "      <td>0.0</td>\n",
       "      <td>0.0</td>\n",
       "      <td>0.0</td>\n",
       "      <td>0.0</td>\n",
       "      <td>Sun Belt</td>\n",
       "      <td>NaN</td>\n",
       "    </tr>\n",
       "    <tr>\n",
       "      <th>4</th>\n",
       "      <td>2015-11-13</td>\n",
       "      <td>Yale</td>\n",
       "      <td>70</td>\n",
       "      <td>Fairfield</td>\n",
       "      <td>57</td>\n",
       "      <td>13</td>\n",
       "      <td>15/16</td>\n",
       "      <td>False</td>\n",
       "      <td>0.0</td>\n",
       "      <td>0.0</td>\n",
       "      <td>0.0</td>\n",
       "      <td>0.0</td>\n",
       "      <td>0.0</td>\n",
       "      <td>0.0</td>\n",
       "      <td>0.0</td>\n",
       "      <td>0.0</td>\n",
       "      <td>Ivy League</td>\n",
       "      <td>Metro Atlantic Athletic</td>\n",
       "    </tr>\n",
       "  </tbody>\n",
       "</table>\n",
       "</div>"
      ],
      "text/plain": [
       "        date         home_team  home_score      away_team  away_score  diff  \\\n",
       "0 2015-11-13            Hawaii          87  Montana State          76    11   \n",
       "1 2015-11-13  Eastern Michigan          70        Vermont          50    20   \n",
       "2 2015-11-13          Columbia         107           Kean          62    45   \n",
       "3 2015-11-13  Louisiana-Monroe          88        McMurry          43    45   \n",
       "4 2015-11-13              Yale          70      Fairfield          57    13   \n",
       "\n",
       "  season  is_tournament  home_score_at_home  home_defense_at_home  \\\n",
       "0  15/16          False                 0.0                   0.0   \n",
       "1  15/16          False                 0.0                   0.0   \n",
       "2  15/16          False                 0.0                   0.0   \n",
       "3  15/16          False                 0.0                   0.0   \n",
       "4  15/16          False                 0.0                   0.0   \n",
       "\n",
       "   away_score_at_away  away_defense_at_away  home_score_total  \\\n",
       "0                 0.0                   0.0               0.0   \n",
       "1                 0.0                   0.0               0.0   \n",
       "2                 0.0                   0.0               0.0   \n",
       "3                 0.0                   0.0               0.0   \n",
       "4                 0.0                   0.0               0.0   \n",
       "\n",
       "   home_defense_total  away_score_total  away_defense_total conference_home  \\\n",
       "0                 0.0               0.0                 0.0        Big West   \n",
       "1                 0.0               0.0                 0.0    Mid-American   \n",
       "2                 0.0               0.0                 0.0      Ivy League   \n",
       "3                 0.0               0.0                 0.0        Sun Belt   \n",
       "4                 0.0               0.0                 0.0      Ivy League   \n",
       "\n",
       "           conference_away  \n",
       "0                  Big Sky  \n",
       "1             America East  \n",
       "2                      NaN  \n",
       "3                      NaN  \n",
       "4  Metro Atlantic Athletic  "
      ]
     },
     "execution_count": 53,
     "metadata": {},
     "output_type": "execute_result"
    }
   ],
   "source": [
    "df.head()"
   ]
  },
  {
   "cell_type": "markdown",
   "metadata": {},
   "source": [
    "## Add information on how long a team had time to recover from the last game"
   ]
  },
  {
   "cell_type": "code",
   "execution_count": 54,
   "metadata": {},
   "outputs": [],
   "source": [
    "for team in unique_names:\n",
    "    df_tmp1 = df[df['home_team'] == team][['date']]\n",
    "    df_tmp1['is_home'] = True\n",
    "    df_tmp2 = df[df['away_team'] == team][['date']]\n",
    "    df_tmp2['is_home'] = False\n",
    "\n",
    "    df_dates = pd.concat([df_tmp1, df_tmp2]).sort_values('date')\n",
    "    df_dates['recovery'] = (df_dates['date'] - df_dates['date'].shift()).dt.days\n",
    "\n",
    "    ## fill in a high value, that roughly matches the off season span\n",
    "    df_dates.fillna(255, inplace = True)\n",
    "    \n",
    "    df.loc[df['home_team'] == team, 'home_recovery'] = df_dates[df_dates['is_home']]['recovery']\n",
    "    df.loc[df['away_team'] == team, 'away_recovery'] = df_dates[~df_dates['is_home']]['recovery']"
   ]
  },
  {
   "cell_type": "code",
   "execution_count": 55,
   "metadata": {},
   "outputs": [
    {
     "data": {
      "text/html": [
       "<div>\n",
       "<style scoped>\n",
       "    .dataframe tbody tr th:only-of-type {\n",
       "        vertical-align: middle;\n",
       "    }\n",
       "\n",
       "    .dataframe tbody tr th {\n",
       "        vertical-align: top;\n",
       "    }\n",
       "\n",
       "    .dataframe thead th {\n",
       "        text-align: right;\n",
       "    }\n",
       "</style>\n",
       "<table border=\"1\" class=\"dataframe\">\n",
       "  <thead>\n",
       "    <tr style=\"text-align: right;\">\n",
       "      <th></th>\n",
       "      <th>date</th>\n",
       "      <th>home_team</th>\n",
       "      <th>home_score</th>\n",
       "      <th>away_team</th>\n",
       "      <th>away_score</th>\n",
       "      <th>diff</th>\n",
       "      <th>season</th>\n",
       "      <th>is_tournament</th>\n",
       "      <th>home_score_at_home</th>\n",
       "      <th>home_defense_at_home</th>\n",
       "      <th>away_score_at_away</th>\n",
       "      <th>away_defense_at_away</th>\n",
       "      <th>home_score_total</th>\n",
       "      <th>home_defense_total</th>\n",
       "      <th>away_score_total</th>\n",
       "      <th>away_defense_total</th>\n",
       "      <th>conference_home</th>\n",
       "      <th>conference_away</th>\n",
       "      <th>home_recovery</th>\n",
       "      <th>away_recovery</th>\n",
       "    </tr>\n",
       "  </thead>\n",
       "  <tbody>\n",
       "    <tr>\n",
       "      <th>23285</th>\n",
       "      <td>2019-03-21</td>\n",
       "      <td>Hampton</td>\n",
       "      <td>81</td>\n",
       "      <td>St Francis (BKN)</td>\n",
       "      <td>72</td>\n",
       "      <td>9</td>\n",
       "      <td>18/19</td>\n",
       "      <td>True</td>\n",
       "      <td>84.500000</td>\n",
       "      <td>72.000000</td>\n",
       "      <td>67.722222</td>\n",
       "      <td>73.166667</td>\n",
       "      <td>80.633333</td>\n",
       "      <td>77.500000</td>\n",
       "      <td>71.031250</td>\n",
       "      <td>69.968750</td>\n",
       "      <td>Big South</td>\n",
       "      <td>Northeast</td>\n",
       "      <td>14.0</td>\n",
       "      <td>15.0</td>\n",
       "    </tr>\n",
       "    <tr>\n",
       "      <th>23286</th>\n",
       "      <td>2019-03-21</td>\n",
       "      <td>Louisiana-Monroe</td>\n",
       "      <td>87</td>\n",
       "      <td>Kent State</td>\n",
       "      <td>77</td>\n",
       "      <td>10</td>\n",
       "      <td>18/19</td>\n",
       "      <td>True</td>\n",
       "      <td>84.933333</td>\n",
       "      <td>74.400000</td>\n",
       "      <td>71.071429</td>\n",
       "      <td>74.357143</td>\n",
       "      <td>78.303030</td>\n",
       "      <td>74.303030</td>\n",
       "      <td>74.645161</td>\n",
       "      <td>72.935484</td>\n",
       "      <td>Sun Belt</td>\n",
       "      <td>Mid-American</td>\n",
       "      <td>6.0</td>\n",
       "      <td>7.0</td>\n",
       "    </tr>\n",
       "    <tr>\n",
       "      <th>23287</th>\n",
       "      <td>2019-03-21</td>\n",
       "      <td>Cal State Fullerton</td>\n",
       "      <td>58</td>\n",
       "      <td>CSU Cal State Bakersfield</td>\n",
       "      <td>66</td>\n",
       "      <td>-8</td>\n",
       "      <td>18/19</td>\n",
       "      <td>True</td>\n",
       "      <td>72.333333</td>\n",
       "      <td>65.466667</td>\n",
       "      <td>67.470588</td>\n",
       "      <td>73.529412</td>\n",
       "      <td>72.090909</td>\n",
       "      <td>71.151515</td>\n",
       "      <td>71.322581</td>\n",
       "      <td>71.193548</td>\n",
       "      <td>Big West</td>\n",
       "      <td>NaN</td>\n",
       "      <td>5.0</td>\n",
       "      <td>7.0</td>\n",
       "    </tr>\n",
       "    <tr>\n",
       "      <th>23288</th>\n",
       "      <td>2019-03-22</td>\n",
       "      <td>Southern Utah</td>\n",
       "      <td>80</td>\n",
       "      <td>Drake</td>\n",
       "      <td>73</td>\n",
       "      <td>7</td>\n",
       "      <td>18/19</td>\n",
       "      <td>True</td>\n",
       "      <td>80.714286</td>\n",
       "      <td>72.285714</td>\n",
       "      <td>70.000000</td>\n",
       "      <td>69.357143</td>\n",
       "      <td>75.812500</td>\n",
       "      <td>75.718750</td>\n",
       "      <td>75.454545</td>\n",
       "      <td>69.909091</td>\n",
       "      <td>Big Sky</td>\n",
       "      <td>Missouri Valley</td>\n",
       "      <td>7.0</td>\n",
       "      <td>13.0</td>\n",
       "    </tr>\n",
       "    <tr>\n",
       "      <th>23289</th>\n",
       "      <td>2019-03-22</td>\n",
       "      <td>Creighton</td>\n",
       "      <td>79</td>\n",
       "      <td>Memphis</td>\n",
       "      <td>67</td>\n",
       "      <td>12</td>\n",
       "      <td>18/19</td>\n",
       "      <td>True</td>\n",
       "      <td>83.450000</td>\n",
       "      <td>73.050000</td>\n",
       "      <td>76.076923</td>\n",
       "      <td>78.153846</td>\n",
       "      <td>78.484848</td>\n",
       "      <td>73.424242</td>\n",
       "      <td>80.428571</td>\n",
       "      <td>74.314286</td>\n",
       "      <td>Big East</td>\n",
       "      <td>American Athletic Conference</td>\n",
       "      <td>3.0</td>\n",
       "      <td>3.0</td>\n",
       "    </tr>\n",
       "  </tbody>\n",
       "</table>\n",
       "</div>"
      ],
      "text/plain": [
       "            date            home_team  home_score                  away_team  \\\n",
       "23285 2019-03-21              Hampton          81           St Francis (BKN)   \n",
       "23286 2019-03-21     Louisiana-Monroe          87                 Kent State   \n",
       "23287 2019-03-21  Cal State Fullerton          58  CSU Cal State Bakersfield   \n",
       "23288 2019-03-22        Southern Utah          80                      Drake   \n",
       "23289 2019-03-22            Creighton          79                    Memphis   \n",
       "\n",
       "       away_score  diff season  is_tournament  home_score_at_home  \\\n",
       "23285          72     9  18/19           True           84.500000   \n",
       "23286          77    10  18/19           True           84.933333   \n",
       "23287          66    -8  18/19           True           72.333333   \n",
       "23288          73     7  18/19           True           80.714286   \n",
       "23289          67    12  18/19           True           83.450000   \n",
       "\n",
       "       home_defense_at_home  away_score_at_away  away_defense_at_away  \\\n",
       "23285             72.000000           67.722222             73.166667   \n",
       "23286             74.400000           71.071429             74.357143   \n",
       "23287             65.466667           67.470588             73.529412   \n",
       "23288             72.285714           70.000000             69.357143   \n",
       "23289             73.050000           76.076923             78.153846   \n",
       "\n",
       "       home_score_total  home_defense_total  away_score_total  \\\n",
       "23285         80.633333           77.500000         71.031250   \n",
       "23286         78.303030           74.303030         74.645161   \n",
       "23287         72.090909           71.151515         71.322581   \n",
       "23288         75.812500           75.718750         75.454545   \n",
       "23289         78.484848           73.424242         80.428571   \n",
       "\n",
       "       away_defense_total conference_home               conference_away  \\\n",
       "23285           69.968750       Big South                     Northeast   \n",
       "23286           72.935484        Sun Belt                  Mid-American   \n",
       "23287           71.193548        Big West                           NaN   \n",
       "23288           69.909091         Big Sky               Missouri Valley   \n",
       "23289           74.314286        Big East  American Athletic Conference   \n",
       "\n",
       "       home_recovery  away_recovery  \n",
       "23285           14.0           15.0  \n",
       "23286            6.0            7.0  \n",
       "23287            5.0            7.0  \n",
       "23288            7.0           13.0  \n",
       "23289            3.0            3.0  "
      ]
     },
     "execution_count": 55,
     "metadata": {},
     "output_type": "execute_result"
    }
   ],
   "source": [
    "df.tail()"
   ]
  },
  {
   "cell_type": "markdown",
   "metadata": {},
   "source": [
    "### Save result:"
   ]
  },
  {
   "cell_type": "code",
   "execution_count": 56,
   "metadata": {
    "id": "vxOaSwtrIRv7"
   },
   "outputs": [],
   "source": [
    "df.to_csv('ncaa_detailed_scores.csv')"
   ]
  }
 ],
 "metadata": {
  "colab": {
   "collapsed_sections": [],
   "name": "2.ipynb",
   "provenance": []
  },
  "kernelspec": {
   "display_name": "Python 3",
   "language": "python",
   "name": "python3"
  },
  "language_info": {
   "codemirror_mode": {
    "name": "ipython",
    "version": 3
   },
   "file_extension": ".py",
   "mimetype": "text/x-python",
   "name": "python",
   "nbconvert_exporter": "python",
   "pygments_lexer": "ipython3",
   "version": "3.8.5"
  }
 },
 "nbformat": 4,
 "nbformat_minor": 1
}
