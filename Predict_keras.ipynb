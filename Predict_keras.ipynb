{
 "cells": [
  {
   "cell_type": "code",
   "execution_count": 1,
   "metadata": {},
   "outputs": [],
   "source": [
    "from tensorflow import keras\n",
    "import pandas as pd\n",
    "import matplotlib.pyplot as plt"
   ]
  },
  {
   "cell_type": "code",
   "execution_count": 2,
   "metadata": {},
   "outputs": [],
   "source": [
    "df = pd.read_csv('ncaa_detailed_scores.csv', index_col=0)"
   ]
  },
  {
   "cell_type": "code",
   "execution_count": 3,
   "metadata": {},
   "outputs": [
    {
     "name": "stdout",
     "output_type": "stream",
     "text": [
      "(23290, 20)\n"
     ]
    },
    {
     "data": {
      "text/html": [
       "<div>\n",
       "<style scoped>\n",
       "    .dataframe tbody tr th:only-of-type {\n",
       "        vertical-align: middle;\n",
       "    }\n",
       "\n",
       "    .dataframe tbody tr th {\n",
       "        vertical-align: top;\n",
       "    }\n",
       "\n",
       "    .dataframe thead th {\n",
       "        text-align: right;\n",
       "    }\n",
       "</style>\n",
       "<table border=\"1\" class=\"dataframe\">\n",
       "  <thead>\n",
       "    <tr style=\"text-align: right;\">\n",
       "      <th></th>\n",
       "      <th>date</th>\n",
       "      <th>home_team</th>\n",
       "      <th>home_score</th>\n",
       "      <th>away_team</th>\n",
       "      <th>away_score</th>\n",
       "      <th>diff</th>\n",
       "      <th>season</th>\n",
       "      <th>is_tournament</th>\n",
       "      <th>home_score_at_home</th>\n",
       "      <th>home_defense_at_home</th>\n",
       "      <th>away_score_at_away</th>\n",
       "      <th>away_defense_at_away</th>\n",
       "      <th>home_score_total</th>\n",
       "      <th>home_defense_total</th>\n",
       "      <th>away_score_total</th>\n",
       "      <th>away_defense_total</th>\n",
       "      <th>conference_home</th>\n",
       "      <th>conference_away</th>\n",
       "      <th>home_recovery</th>\n",
       "      <th>away_recovery</th>\n",
       "    </tr>\n",
       "  </thead>\n",
       "  <tbody>\n",
       "    <tr>\n",
       "      <th>0</th>\n",
       "      <td>2015-11-13</td>\n",
       "      <td>Hawaii</td>\n",
       "      <td>87</td>\n",
       "      <td>Montana State</td>\n",
       "      <td>76</td>\n",
       "      <td>11</td>\n",
       "      <td>15/16</td>\n",
       "      <td>False</td>\n",
       "      <td>0.0</td>\n",
       "      <td>0.0</td>\n",
       "      <td>0.0</td>\n",
       "      <td>0.0</td>\n",
       "      <td>0.0</td>\n",
       "      <td>0.0</td>\n",
       "      <td>0.0</td>\n",
       "      <td>0.0</td>\n",
       "      <td>Big West</td>\n",
       "      <td>Big Sky</td>\n",
       "      <td>255.0</td>\n",
       "      <td>255.0</td>\n",
       "    </tr>\n",
       "    <tr>\n",
       "      <th>1</th>\n",
       "      <td>2015-11-13</td>\n",
       "      <td>Eastern Michigan</td>\n",
       "      <td>70</td>\n",
       "      <td>Vermont</td>\n",
       "      <td>50</td>\n",
       "      <td>20</td>\n",
       "      <td>15/16</td>\n",
       "      <td>False</td>\n",
       "      <td>0.0</td>\n",
       "      <td>0.0</td>\n",
       "      <td>0.0</td>\n",
       "      <td>0.0</td>\n",
       "      <td>0.0</td>\n",
       "      <td>0.0</td>\n",
       "      <td>0.0</td>\n",
       "      <td>0.0</td>\n",
       "      <td>Mid-American</td>\n",
       "      <td>America East</td>\n",
       "      <td>255.0</td>\n",
       "      <td>255.0</td>\n",
       "    </tr>\n",
       "    <tr>\n",
       "      <th>2</th>\n",
       "      <td>2015-11-13</td>\n",
       "      <td>Columbia</td>\n",
       "      <td>107</td>\n",
       "      <td>Kean</td>\n",
       "      <td>62</td>\n",
       "      <td>45</td>\n",
       "      <td>15/16</td>\n",
       "      <td>False</td>\n",
       "      <td>0.0</td>\n",
       "      <td>0.0</td>\n",
       "      <td>0.0</td>\n",
       "      <td>0.0</td>\n",
       "      <td>0.0</td>\n",
       "      <td>0.0</td>\n",
       "      <td>0.0</td>\n",
       "      <td>0.0</td>\n",
       "      <td>Ivy League</td>\n",
       "      <td>NaN</td>\n",
       "      <td>255.0</td>\n",
       "      <td>255.0</td>\n",
       "    </tr>\n",
       "    <tr>\n",
       "      <th>3</th>\n",
       "      <td>2015-11-13</td>\n",
       "      <td>Louisiana-Monroe</td>\n",
       "      <td>88</td>\n",
       "      <td>McMurry</td>\n",
       "      <td>43</td>\n",
       "      <td>45</td>\n",
       "      <td>15/16</td>\n",
       "      <td>False</td>\n",
       "      <td>0.0</td>\n",
       "      <td>0.0</td>\n",
       "      <td>0.0</td>\n",
       "      <td>0.0</td>\n",
       "      <td>0.0</td>\n",
       "      <td>0.0</td>\n",
       "      <td>0.0</td>\n",
       "      <td>0.0</td>\n",
       "      <td>Sun Belt</td>\n",
       "      <td>NaN</td>\n",
       "      <td>255.0</td>\n",
       "      <td>255.0</td>\n",
       "    </tr>\n",
       "    <tr>\n",
       "      <th>4</th>\n",
       "      <td>2015-11-13</td>\n",
       "      <td>Yale</td>\n",
       "      <td>70</td>\n",
       "      <td>Fairfield</td>\n",
       "      <td>57</td>\n",
       "      <td>13</td>\n",
       "      <td>15/16</td>\n",
       "      <td>False</td>\n",
       "      <td>0.0</td>\n",
       "      <td>0.0</td>\n",
       "      <td>0.0</td>\n",
       "      <td>0.0</td>\n",
       "      <td>0.0</td>\n",
       "      <td>0.0</td>\n",
       "      <td>0.0</td>\n",
       "      <td>0.0</td>\n",
       "      <td>Ivy League</td>\n",
       "      <td>Metro Atlantic Athletic</td>\n",
       "      <td>255.0</td>\n",
       "      <td>255.0</td>\n",
       "    </tr>\n",
       "  </tbody>\n",
       "</table>\n",
       "</div>"
      ],
      "text/plain": [
       "         date         home_team  home_score      away_team  away_score  diff  \\\n",
       "0  2015-11-13            Hawaii          87  Montana State          76    11   \n",
       "1  2015-11-13  Eastern Michigan          70        Vermont          50    20   \n",
       "2  2015-11-13          Columbia         107           Kean          62    45   \n",
       "3  2015-11-13  Louisiana-Monroe          88        McMurry          43    45   \n",
       "4  2015-11-13              Yale          70      Fairfield          57    13   \n",
       "\n",
       "  season  is_tournament  home_score_at_home  home_defense_at_home  \\\n",
       "0  15/16          False                 0.0                   0.0   \n",
       "1  15/16          False                 0.0                   0.0   \n",
       "2  15/16          False                 0.0                   0.0   \n",
       "3  15/16          False                 0.0                   0.0   \n",
       "4  15/16          False                 0.0                   0.0   \n",
       "\n",
       "   away_score_at_away  away_defense_at_away  home_score_total  \\\n",
       "0                 0.0                   0.0               0.0   \n",
       "1                 0.0                   0.0               0.0   \n",
       "2                 0.0                   0.0               0.0   \n",
       "3                 0.0                   0.0               0.0   \n",
       "4                 0.0                   0.0               0.0   \n",
       "\n",
       "   home_defense_total  away_score_total  away_defense_total conference_home  \\\n",
       "0                 0.0               0.0                 0.0        Big West   \n",
       "1                 0.0               0.0                 0.0    Mid-American   \n",
       "2                 0.0               0.0                 0.0      Ivy League   \n",
       "3                 0.0               0.0                 0.0        Sun Belt   \n",
       "4                 0.0               0.0                 0.0      Ivy League   \n",
       "\n",
       "           conference_away  home_recovery  away_recovery  \n",
       "0                  Big Sky          255.0          255.0  \n",
       "1             America East          255.0          255.0  \n",
       "2                      NaN          255.0          255.0  \n",
       "3                      NaN          255.0          255.0  \n",
       "4  Metro Atlantic Athletic          255.0          255.0  "
      ]
     },
     "execution_count": 3,
     "metadata": {},
     "output_type": "execute_result"
    }
   ],
   "source": [
    "print(df.shape)\n",
    "df.head()"
   ]
  },
  {
   "cell_type": "code",
   "execution_count": 4,
   "metadata": {},
   "outputs": [
    {
     "data": {
      "text/plain": [
       "Index(['date', 'home_team', 'home_score', 'away_team', 'away_score', 'diff',\n",
       "       'season', 'is_tournament', 'home_score_at_home', 'home_defense_at_home',\n",
       "       'away_score_at_away', 'away_defense_at_away', 'home_score_total',\n",
       "       'home_defense_total', 'away_score_total', 'away_defense_total',\n",
       "       'conference_home', 'conference_away', 'home_recovery', 'away_recovery'],\n",
       "      dtype='object')"
      ]
     },
     "execution_count": 4,
     "metadata": {},
     "output_type": "execute_result"
    }
   ],
   "source": [
    "df.columns"
   ]
  },
  {
   "cell_type": "code",
   "execution_count": 5,
   "metadata": {},
   "outputs": [],
   "source": [
    "cat_columns = ['home_team', 'away_team', 'conference_home', 'conference_away', 'season', 'is_tournament']\n",
    "drop_columns = ['date', 'home_score', 'away_score']\n",
    "dep_column = ['diff']\n",
    "\n",
    "cont_columns = [c for c in df.columns if c not in cat_columns + drop_columns + dep_column]\n",
    "\n",
    "df = df[cat_columns + cont_columns + dep_column]"
   ]
  },
  {
   "cell_type": "markdown",
   "metadata": {},
   "source": [
    "### Categorize"
   ]
  },
  {
   "cell_type": "code",
   "execution_count": 6,
   "metadata": {},
   "outputs": [],
   "source": [
    "for col in cat_columns:\n",
    "    df[col] = df[col].astype('category').cat.codes"
   ]
  },
  {
   "cell_type": "code",
   "execution_count": 7,
   "metadata": {},
   "outputs": [
    {
     "data": {
      "text/html": [
       "<div>\n",
       "<style scoped>\n",
       "    .dataframe tbody tr th:only-of-type {\n",
       "        vertical-align: middle;\n",
       "    }\n",
       "\n",
       "    .dataframe tbody tr th {\n",
       "        vertical-align: top;\n",
       "    }\n",
       "\n",
       "    .dataframe thead th {\n",
       "        text-align: right;\n",
       "    }\n",
       "</style>\n",
       "<table border=\"1\" class=\"dataframe\">\n",
       "  <thead>\n",
       "    <tr style=\"text-align: right;\">\n",
       "      <th></th>\n",
       "      <th>home_team</th>\n",
       "      <th>away_team</th>\n",
       "      <th>conference_home</th>\n",
       "      <th>conference_away</th>\n",
       "      <th>season</th>\n",
       "      <th>is_tournament</th>\n",
       "      <th>home_score_at_home</th>\n",
       "      <th>home_defense_at_home</th>\n",
       "      <th>away_score_at_away</th>\n",
       "      <th>away_defense_at_away</th>\n",
       "      <th>home_score_total</th>\n",
       "      <th>home_defense_total</th>\n",
       "      <th>away_score_total</th>\n",
       "      <th>away_defense_total</th>\n",
       "      <th>home_recovery</th>\n",
       "      <th>away_recovery</th>\n",
       "      <th>diff</th>\n",
       "    </tr>\n",
       "  </thead>\n",
       "  <tbody>\n",
       "    <tr>\n",
       "      <th>0</th>\n",
       "      <td>118</td>\n",
       "      <td>485</td>\n",
       "      <td>10</td>\n",
       "      <td>7</td>\n",
       "      <td>0</td>\n",
       "      <td>0</td>\n",
       "      <td>0.0</td>\n",
       "      <td>0.0</td>\n",
       "      <td>0.0</td>\n",
       "      <td>0.0</td>\n",
       "      <td>0.0</td>\n",
       "      <td>0.0</td>\n",
       "      <td>0.0</td>\n",
       "      <td>0.0</td>\n",
       "      <td>255.0</td>\n",
       "      <td>255.0</td>\n",
       "      <td>11</td>\n",
       "    </tr>\n",
       "    <tr>\n",
       "      <th>1</th>\n",
       "      <td>88</td>\n",
       "      <td>824</td>\n",
       "      <td>16</td>\n",
       "      <td>0</td>\n",
       "      <td>0</td>\n",
       "      <td>0</td>\n",
       "      <td>0.0</td>\n",
       "      <td>0.0</td>\n",
       "      <td>0.0</td>\n",
       "      <td>0.0</td>\n",
       "      <td>0.0</td>\n",
       "      <td>0.0</td>\n",
       "      <td>0.0</td>\n",
       "      <td>0.0</td>\n",
       "      <td>255.0</td>\n",
       "      <td>255.0</td>\n",
       "      <td>20</td>\n",
       "    </tr>\n",
       "    <tr>\n",
       "      <th>2</th>\n",
       "      <td>67</td>\n",
       "      <td>355</td>\n",
       "      <td>14</td>\n",
       "      <td>-1</td>\n",
       "      <td>0</td>\n",
       "      <td>0</td>\n",
       "      <td>0.0</td>\n",
       "      <td>0.0</td>\n",
       "      <td>0.0</td>\n",
       "      <td>0.0</td>\n",
       "      <td>0.0</td>\n",
       "      <td>0.0</td>\n",
       "      <td>0.0</td>\n",
       "      <td>0.0</td>\n",
       "      <td>255.0</td>\n",
       "      <td>255.0</td>\n",
       "      <td>45</td>\n",
       "    </tr>\n",
       "    <tr>\n",
       "      <th>3</th>\n",
       "      <td>160</td>\n",
       "      <td>438</td>\n",
       "      <td>29</td>\n",
       "      <td>-1</td>\n",
       "      <td>0</td>\n",
       "      <td>0</td>\n",
       "      <td>0.0</td>\n",
       "      <td>0.0</td>\n",
       "      <td>0.0</td>\n",
       "      <td>0.0</td>\n",
       "      <td>0.0</td>\n",
       "      <td>0.0</td>\n",
       "      <td>0.0</td>\n",
       "      <td>0.0</td>\n",
       "      <td>255.0</td>\n",
       "      <td>255.0</td>\n",
       "      <td>45</td>\n",
       "    </tr>\n",
       "    <tr>\n",
       "      <th>4</th>\n",
       "      <td>368</td>\n",
       "      <td>235</td>\n",
       "      <td>14</td>\n",
       "      <td>15</td>\n",
       "      <td>0</td>\n",
       "      <td>0</td>\n",
       "      <td>0.0</td>\n",
       "      <td>0.0</td>\n",
       "      <td>0.0</td>\n",
       "      <td>0.0</td>\n",
       "      <td>0.0</td>\n",
       "      <td>0.0</td>\n",
       "      <td>0.0</td>\n",
       "      <td>0.0</td>\n",
       "      <td>255.0</td>\n",
       "      <td>255.0</td>\n",
       "      <td>13</td>\n",
       "    </tr>\n",
       "  </tbody>\n",
       "</table>\n",
       "</div>"
      ],
      "text/plain": [
       "   home_team  away_team  conference_home  conference_away  season  \\\n",
       "0        118        485               10                7       0   \n",
       "1         88        824               16                0       0   \n",
       "2         67        355               14               -1       0   \n",
       "3        160        438               29               -1       0   \n",
       "4        368        235               14               15       0   \n",
       "\n",
       "   is_tournament  home_score_at_home  home_defense_at_home  \\\n",
       "0              0                 0.0                   0.0   \n",
       "1              0                 0.0                   0.0   \n",
       "2              0                 0.0                   0.0   \n",
       "3              0                 0.0                   0.0   \n",
       "4              0                 0.0                   0.0   \n",
       "\n",
       "   away_score_at_away  away_defense_at_away  home_score_total  \\\n",
       "0                 0.0                   0.0               0.0   \n",
       "1                 0.0                   0.0               0.0   \n",
       "2                 0.0                   0.0               0.0   \n",
       "3                 0.0                   0.0               0.0   \n",
       "4                 0.0                   0.0               0.0   \n",
       "\n",
       "   home_defense_total  away_score_total  away_defense_total  home_recovery  \\\n",
       "0                 0.0               0.0                 0.0          255.0   \n",
       "1                 0.0               0.0                 0.0          255.0   \n",
       "2                 0.0               0.0                 0.0          255.0   \n",
       "3                 0.0               0.0                 0.0          255.0   \n",
       "4                 0.0               0.0                 0.0          255.0   \n",
       "\n",
       "   away_recovery  diff  \n",
       "0          255.0    11  \n",
       "1          255.0    20  \n",
       "2          255.0    45  \n",
       "3          255.0    45  \n",
       "4          255.0    13  "
      ]
     },
     "execution_count": 7,
     "metadata": {},
     "output_type": "execute_result"
    }
   ],
   "source": [
    "df.head()"
   ]
  },
  {
   "cell_type": "code",
   "execution_count": 8,
   "metadata": {},
   "outputs": [],
   "source": [
    "for col in cont_columns:\n",
    "    df[col] = (df[col] - df[col].mean()) / df[col].std()"
   ]
  },
  {
   "cell_type": "code",
   "execution_count": 9,
   "metadata": {},
   "outputs": [],
   "source": [
    "X_values = df.drop('diff', axis = 1).values\n",
    "Y_values = df['diff'].values\n",
    "\n",
    "val_pct = 0.2\n",
    "cut = int(X_values.shape[0] * (1 - val_pct))\n",
    "\n",
    "X_train = X_values[:cut]\n",
    "Y_train = Y_values[:cut]\n",
    "X_val = X_values[cut:]\n",
    "Y_val = Y_values[cut:]"
   ]
  },
  {
   "cell_type": "code",
   "execution_count": 10,
   "metadata": {},
   "outputs": [
    {
     "name": "stdout",
     "output_type": "stream",
     "text": [
      "(18632, 16) (18632,)\n"
     ]
    }
   ],
   "source": [
    "print(X_train.shape, Y_train.shape)"
   ]
  },
  {
   "cell_type": "code",
   "execution_count": 11,
   "metadata": {},
   "outputs": [],
   "source": [
    "model = keras.Sequential()\n",
    "\n",
    "model.add(keras.layers.Dense(64, input_shape = (X_train.shape[1],), activation = 'relu', kernel_regularizer=keras.regularizers.l2(0.01)))\n",
    "model.add(keras.layers.BatchNormalization())\n",
    "model.add(keras.layers.Dense(64, activation = 'relu', kernel_regularizer=keras.regularizers.l2(0.01)))\n",
    "model.add(keras.layers.Dropout(0.4))\n",
    "model.add(keras.layers.Dense(32, activation = 'relu'))\n",
    "model.add(keras.layers.Dropout(0.4))\n",
    "model.add(keras.layers.Dense(16, activation = 'relu'))\n",
    "model.add(keras.layers.Dense(1))\n",
    "\n",
    "model.compile(loss='mean_squared_error', \n",
    "              #optimizer=keras.optimizers.Adam(0.1),\n",
    "              optimizer = keras.optimizers.RMSprop(),\n",
    "              metrics =  keras.metrics.MeanAbsoluteError()\n",
    "              )"
   ]
  },
  {
   "cell_type": "code",
   "execution_count": 12,
   "metadata": {},
   "outputs": [],
   "source": [
    "history = model.fit(\n",
    "    X_train,\n",
    "    Y_train,\n",
    "    batch_size = 128,\n",
    "    epochs = 250,\n",
    "    validation_data = (X_val, Y_val),\n",
    "    verbose = False\n",
    ")"
   ]
  },
  {
   "cell_type": "code",
   "execution_count": 13,
   "metadata": {},
   "outputs": [],
   "source": [
    "l,v = history.history['loss'], history.history['val_loss']"
   ]
  },
  {
   "cell_type": "code",
   "execution_count": 14,
   "metadata": {},
   "outputs": [
    {
     "data": {
      "text/plain": [
       "[<matplotlib.lines.Line2D at 0x7f9f200ed490>]"
      ]
     },
     "execution_count": 14,
     "metadata": {},
     "output_type": "execute_result"
    },
    {
     "data": {
      "image/png": "[encoded data removed]",
      "text/plain": [
       "<Figure size 432x288 with 1 Axes>"
      ]
     },
     "metadata": {
      "needs_background": "light"
     },
     "output_type": "display_data"
    }
   ],
   "source": [
    "plt.plot(v)\n",
    "plt.plot(l)"
   ]
  },
  {
   "cell_type": "code",
   "execution_count": 15,
   "metadata": {},
   "outputs": [
    {
     "data": {
      "text/plain": [
       "10.077802658081055"
      ]
     },
     "execution_count": 15,
     "metadata": {},
     "output_type": "execute_result"
    }
   ],
   "source": [
    "history.history['mean_absolute_error'][-1]"
   ]
  },
  {
   "cell_type": "code",
   "execution_count": null,
   "metadata": {},
   "outputs": [],
   "source": []
  }
 ],
 "metadata": {
  "kernelspec": {
   "display_name": "Python [conda env:tensorflow]",
   "language": "python",
   "name": "conda-env-tensorflow-py"
  },
  "language_info": {
   "codemirror_mode": {
    "name": "ipython",
    "version": 3
   },
   "file_extension": ".py",
   "mimetype": "text/x-python",
   "name": "python",
   "nbconvert_exporter": "python",
   "pygments_lexer": "ipython3",
   "version": "3.8.5"
  }
 },
 "nbformat": 4,
 "nbformat_minor": 4
}
